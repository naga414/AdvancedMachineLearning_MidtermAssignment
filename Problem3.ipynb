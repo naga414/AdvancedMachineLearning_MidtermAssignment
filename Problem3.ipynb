{
 "cells": [
  {
   "cell_type": "markdown",
   "id": "7c57563f-8585-409f-9611-6086c8bb592a",
   "metadata": {},
   "source": [
    "## Problem3"
   ]
  },
  {
   "cell_type": "code",
   "execution_count": 95,
   "id": "81fab241-f922-4a07-bc92-8caf6bd8c2cd",
   "metadata": {},
   "outputs": [
    {
     "name": "stdout",
     "output_type": "stream",
     "text": [
      "Finished!!\n"
     ]
    }
   ],
   "source": [
    "import numpy as np\n",
    "import matplotlib.pyplot as plt\n",
    "\n",
    "#データセット2\n",
    "def dataset2(n=40):\n",
    "    omega = np.random.randn()\n",
    "    noise = 0.8 * np.random.randn(n)\n",
    "    x = np.random.randn(n, 2) + 0\n",
    "    y = 2.0 * (omega * x[:,0] + x[:,1] + noise > 0) - 1\n",
    "    return x,y\n",
    "\n",
    "#ヒンジ損失を正則化の和 式(1)の中身\n",
    "def hinge_loss_and_regularization(x, y, w, l):\n",
    "    loss = 0.0\n",
    "    for i in range(len(x)):\n",
    "        loss += max([0.0, 1.0 - y[i] * w.dot(x[i])])\n",
    "    loss += l * w.dot(w)\n",
    "    return loss\n",
    "\n",
    "#ラグランジュ双対関数 式(2) 最小化問題にしてあることに注意\n",
    "def dual_lagrange(alpha, K, l):\n",
    "    eval = alpha.T.dot(K).dot(alpha) / (4.0 * l)\n",
    "    return eval - np.sum(alpha)\n",
    "\n",
    "#各変数初期化\n",
    "data_size = 40\n",
    "x, y = dataset2(n=data_size)\n",
    "alpha = np.zeros(data_size)\n",
    "eta = 0.01\n",
    "l = 5\n",
    "K = np.zeros((data_size, data_size))\n",
    "for i in range(data_size):\n",
    "    for j in range(data_size):\n",
    "        K[i][j] = y[i] * y[j] * x[i].dot(x[j])\n",
    "iteration = 500\n",
    "evaluations_hinge_loss_and_regularization = np.zeros(iteration)\n",
    "evaluations_dual_lagrange = np.zeros(iteration)\n",
    "\n",
    "#最適化\n",
    "for i in range(iteration):\n",
    "    w = np.zeros(2)\n",
    "    for j in range(data_size):\n",
    "        w += alpha[j] * y[j] * x[j]\n",
    "    w /= 2.0 * l\n",
    "    #現在の評価値を記録\n",
    "    evaluations_hinge_loss_and_regularization[i] = hinge_loss_and_regularization(x,y,w,l)\n",
    "    evaluations_dual_lagrange[i] = dual_lagrange(alpha,K,l)\n",
    "    #alphaの更新\n",
    "    tmp = K.dot(alpha) / (2.0 * l) - 1.0\n",
    "    alpha -= eta * tmp\n",
    "    alpha[alpha < 0] = 0\n",
    "    alpha[alpha > 1] = 1\n",
    "\n",
    "print(\"Finished!!\")"
   ]
  },
  {
   "cell_type": "code",
   "execution_count": 96,
   "id": "d8164565-4aef-4502-aea5-f6e8d1f2265e",
   "metadata": {},
   "outputs": [
    {
     "data": {
      "image/png": "[encoded data removed]",
      "text/plain": [
       "<Figure size 432x288 with 1 Axes>"
      ]
     },
     "metadata": {
      "needs_background": "light"
     },
     "output_type": "display_data"
    }
   ],
   "source": [
    "#プロット\n",
    "plt.plot(evaluations_hinge_loss_and_regularization, label=\"hinge loss + regularization\")\n",
    "plt.plot(np.abs(evaluations_dual_lagrange), label=\"dual lagrange\")\n",
    "plt.xlabel(\"iteration\")\n",
    "plt.ylabel(\"score\")\n",
    "plt.legend(loc=\"lower right\")\n",
    "plt.savefig(\"Problem3-3.png\")"
   ]
  },
  {
   "cell_type": "code",
   "execution_count": null,
   "id": "d30cc856-a3c8-413c-a16e-dd97d790833f",
   "metadata": {},
   "outputs": [],
   "source": []
  }
 ],
 "metadata": {
  "kernelspec": {
   "display_name": "Python 3",
   "language": "python",
   "name": "python3"
  },
  "language_info": {
   "codemirror_mode": {
    "name": "ipython",
    "version": 3
   },
   "file_extension": ".py",
   "mimetype": "text/x-python",
   "name": "python",
   "nbconvert_exporter": "python",
   "pygments_lexer": "ipython3",
   "version": "3.9.5"
  }
 },
 "nbformat": 4,
 "nbformat_minor": 5
}
